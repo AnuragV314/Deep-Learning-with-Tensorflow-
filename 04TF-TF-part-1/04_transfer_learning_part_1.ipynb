{
  "cells": [
    {
      "cell_type": "markdown",
      "metadata": {
        "id": "u-Jj29QKwVA0"
      },
      "source": [
        "# Transfer Learning with TensorFlow Part 1: Feature Extraction"
      ]
    },
    {
      "cell_type": "code",
      "execution_count": 1,
      "metadata": {
        "colab": {
          "base_uri": "https://localhost:8080/"
        },
        "id": "ZDxgJs2SwNT2",
        "outputId": "b5197537-2582-45c2-aee3-fe4855985bac"
      },
      "outputs": [
        {
          "name": "stdout",
          "output_type": "stream",
          "text": [
            "Sun Jun 19 11:53:40 2022       \n",
            "+-----------------------------------------------------------------------------+\n",
            "| NVIDIA-SMI 460.32.03    Driver Version: 460.32.03    CUDA Version: 11.2     |\n",
            "|-------------------------------+----------------------+----------------------+\n",
            "| GPU  Name        Persistence-M| Bus-Id        Disp.A | Volatile Uncorr. ECC |\n",
            "| Fan  Temp  Perf  Pwr:Usage/Cap|         Memory-Usage | GPU-Util  Compute M. |\n",
            "|                               |                      |               MIG M. |\n",
            "|===============================+======================+======================|\n",
            "|   0  Tesla T4            Off  | 00000000:00:04.0 Off |                    0 |\n",
            "| N/A   34C    P8     9W /  70W |      0MiB / 15109MiB |      0%      Default |\n",
            "|                               |                      |                  N/A |\n",
            "+-------------------------------+----------------------+----------------------+\n",
            "                                                                               \n",
            "+-----------------------------------------------------------------------------+\n",
            "| Processes:                                                                  |\n",
            "|  GPU   GI   CI        PID   Type   Process name                  GPU Memory |\n",
            "|        ID   ID                                                   Usage      |\n",
            "|=============================================================================|\n",
            "|  No running processes found                                                 |\n",
            "+-----------------------------------------------------------------------------+\n"
          ]
        }
      ],
      "source": [
        "# Are we using a GPU\n",
        "! nvidia-smi"
      ]
    },
    {
      "cell_type": "markdown",
      "metadata": {
        "id": "XwCFJpni0TMH"
      },
      "source": [
        "## Download and becoming one with the data"
      ]
    },
    {
      "cell_type": "code",
      "execution_count": 2,
      "metadata": {
        "colab": {
          "base_uri": "https://localhost:8080/"
        },
        "id": "qMaiP8fBz3dr",
        "outputId": "2fba4801-e889-4738-eab6-4f01b4bf686c"
      },
      "outputs": [
        {
          "name": "stdout",
          "output_type": "stream",
          "text": [
            "--2022-06-19 11:59:31--  https://storage.googleapis.com/ztm_tf_course/food_vision/10_food_classes_10_percent.zip\n",
            "Resolving storage.googleapis.com (storage.googleapis.com)... 74.125.199.128, 74.125.20.128, 74.125.135.128, ...\n",
            "Connecting to storage.googleapis.com (storage.googleapis.com)|74.125.199.128|:443... connected.\n",
            "HTTP request sent, awaiting response... 200 OK\n",
            "Length: 168546183 (161M) [application/zip]\n",
            "Saving to: ‘10_food_classes_10_percent.zip’\n",
            "\n",
            "10_food_classes_10_ 100%[===================>] 160.74M   280MB/s    in 0.6s    \n",
            "\n",
            "2022-06-19 11:59:32 (280 MB/s) - ‘10_food_classes_10_percent.zip’ saved [168546183/168546183]\n",
            "\n"
          ]
        }
      ],
      "source": [
        "# Get data (10% of 10 food classes from Food101) - https://www.kaggle.com/dansbecker/food-101\n",
        "import zipfile\n",
        "\n",
        "# Download the data\n",
        "!wget https://storage.googleapis.com/ztm_tf_course/food_vision/10_food_classes_10_percent.zip\n",
        "\n",
        "# unzip the downloaded file\n",
        "zip_ref = zipfile.ZipFile('10_food_classes_10_percent.zip')\n",
        "zip_ref.extractall()\n",
        "zip_ref.close()"
      ]
    },
    {
      "cell_type": "code",
      "execution_count": 3,
      "metadata": {
        "colab": {
          "base_uri": "https://localhost:8080/"
        },
        "id": "VyWwKXen1RLW",
        "outputId": "b9d3acf0-117b-44a1-8214-d5a24eee3343"
      },
      "outputs": [
        {
          "name": "stdout",
          "output_type": "stream",
          "text": [
            "There are 2 directories and 0 images in \"10_food_classes_10_percent\" .\n",
            "There are 10 directories and 0 images in \"10_food_classes_10_percent/train\" .\n",
            "There are 0 directories and 75 images in \"10_food_classes_10_percent/train/fried_rice\" .\n",
            "There are 0 directories and 75 images in \"10_food_classes_10_percent/train/ramen\" .\n",
            "There are 0 directories and 75 images in \"10_food_classes_10_percent/train/chicken_curry\" .\n",
            "There are 0 directories and 75 images in \"10_food_classes_10_percent/train/grilled_salmon\" .\n",
            "There are 0 directories and 75 images in \"10_food_classes_10_percent/train/chicken_wings\" .\n",
            "There are 0 directories and 75 images in \"10_food_classes_10_percent/train/sushi\" .\n",
            "There are 0 directories and 75 images in \"10_food_classes_10_percent/train/pizza\" .\n",
            "There are 0 directories and 75 images in \"10_food_classes_10_percent/train/ice_cream\" .\n",
            "There are 0 directories and 75 images in \"10_food_classes_10_percent/train/hamburger\" .\n",
            "There are 0 directories and 75 images in \"10_food_classes_10_percent/train/steak\" .\n",
            "There are 10 directories and 0 images in \"10_food_classes_10_percent/test\" .\n",
            "There are 0 directories and 250 images in \"10_food_classes_10_percent/test/fried_rice\" .\n",
            "There are 0 directories and 250 images in \"10_food_classes_10_percent/test/ramen\" .\n",
            "There are 0 directories and 250 images in \"10_food_classes_10_percent/test/chicken_curry\" .\n",
            "There are 0 directories and 250 images in \"10_food_classes_10_percent/test/grilled_salmon\" .\n",
            "There are 0 directories and 250 images in \"10_food_classes_10_percent/test/chicken_wings\" .\n",
            "There are 0 directories and 250 images in \"10_food_classes_10_percent/test/sushi\" .\n",
            "There are 0 directories and 250 images in \"10_food_classes_10_percent/test/pizza\" .\n",
            "There are 0 directories and 250 images in \"10_food_classes_10_percent/test/ice_cream\" .\n",
            "There are 0 directories and 250 images in \"10_food_classes_10_percent/test/hamburger\" .\n",
            "There are 0 directories and 250 images in \"10_food_classes_10_percent/test/steak\" .\n"
          ]
        }
      ],
      "source": [
        "# how many images in each folder?\n",
        "import os\n",
        "\n",
        "# Walk through 10 percent data directory and list number of files\n",
        "for dirpath, dirnames, filenames in os.walk('10_food_classes_10_percent'):\n",
        "  print(f'There are {len(dirnames)} directories and {len(filenames)} images in \"{dirpath}\" .')"
      ]
    },
    {
      "cell_type": "markdown",
      "metadata": {
        "id": "Dn6PHKDY22wC"
      },
      "source": [
        "## Creating data loaders (preparing the data)\n",
        "\n",
        "We'll use the `ImageDataGenerator` class to load in our images in batches."
      ]
    },
    {
      "cell_type": "code",
      "execution_count": 7,
      "metadata": {
        "colab": {
          "base_uri": "https://localhost:8080/"
        },
        "id": "TIrbvcMc2oas",
        "outputId": "9d4b8a7c-c002-46d2-b6dc-722bab602d7d"
      },
      "outputs": [
        {
          "name": "stdout",
          "output_type": "stream",
          "text": [
            "Training Images: \n",
            "Found 750 images belonging to 10 classes.\n",
            "Testing Images: \n",
            "Found 2500 images belonging to 10 classes.\n"
          ]
        }
      ],
      "source": [
        "# Setup data inputs\n",
        "from tensorflow.keras.preprocessing.image import ImageDataGenerator\n",
        "\n",
        "IMAGE_SHAPE = (224, 224)\n",
        "BATCH_SIZE = 32\n",
        "\n",
        "train_dir = '10_food_classes_10_percent/train/'\n",
        "test_dir = '10_food_classes_10_percent/test/'\n",
        "\n",
        "train_datagen = ImageDataGenerator(rescale=1/255.)\n",
        "test_datagen = ImageDataGenerator(rescale=1/255.)\n",
        "\n",
        "print('Training Images: ')\n",
        "train_data_10_percent = train_datagen.flow_from_directory(train_dir,\n",
        "                                                          target_size = IMAGE_SHAPE,\n",
        "                                                          batch_size = BATCH_SIZE,\n",
        "                                                          class_mode = 'categorical')\n",
        "\n",
        "\n",
        "print('Testing Images: ')\n",
        "test_data = test_datagen.flow_from_directory(test_dir,\n",
        "                                              target_size = IMAGE_SHAPE,\n",
        "                                              batch_size = BATCH_SIZE,\n",
        "                                              class_mode = 'categorical')"
      ]
    },
    {
      "cell_type": "markdown",
      "metadata": {
        "id": "5yYMSm7n405o"
      },
      "source": [
        "## Setting up callbacks (things to run whilst our model trains)\n",
        "\n",
        "Callbacks are extra functionality you can add to your models to be performed during or after training. Some of the most popular callbacks:\n",
        "\n",
        "* Tracking experiments with the TensorBoard callback\n",
        "* Model checkpoint with the ModelCheckpoint callback\n",
        "* Stopping a model from training (before it trains too long and overfits) with the EarlyStopping callback"
      ]
    },
    {
      "cell_type": "code",
      "execution_count": 9,
      "metadata": {
        "id": "lxTKW45T-PQ3"
      },
      "outputs": [],
      "source": [
        "import tensorflow as tf"
      ]
    },
    {
      "cell_type": "code",
      "execution_count": 20,
      "metadata": {
        "id": "p-jUm5_04iZ_"
      },
      "outputs": [],
      "source": [
        "# Create TensorBoard callback (functionized beause we need to create a new one for each model)\n",
        "import datetime\n",
        "\n",
        "def create_tensorboard_callback(dir_name, experiment_name):\n",
        "  log_dir = dir_name + \"/\" + experiment_name + \"/\" + datetime.datetime.now().strftime(\"%Y%m%d-%H%M%S\")\n",
        "  tensorboard_callback = tf.keras.callbacks.TensorBoard(log_dir=log_dir)\n",
        "  print(f\"Saving TensorBoard log files to: {log_dir}\")\n",
        "  return tensorboard_callback\n"
      ]
    },
    {
      "cell_type": "markdown",
      "metadata": {
        "id": "O0HVDyTE9hpx"
      },
      "source": [
        "## Creating models using TensorFlow Hub\n",
        "\n",
        "In the past we've used TensorFlow to create our own models layer by layer from scratch.\n",
        "\n",
        "Now we're going to do a similar process, except the majroity of our model's layers are going to come from TensorFlow Hub.\n",
        "\n",
        "We can access pretrained models on: https://tfhub.dev/\n",
        "\n",
        "Browsing the TensorFlow Hub page and sorting for image classification, we found the following feature vector model link: https://tfhub.dev/tensorflow/efficientnet/b0/feature-vector/1"
      ]
    },
    {
      "cell_type": "code",
      "execution_count": 10,
      "metadata": {
        "id": "mvYQtzEy45x7"
      },
      "outputs": [],
      "source": [
        "# Let's compare the following two models\n",
        "resnet_url = \"https://tfhub.dev/google/imagenet/resnet_v2_50/feature_vector/4\"\n",
        "\n",
        "efficientnet_url = \"https://tfhub.dev/tensorflow/efficientnet/b0/feature-vector/1\""
      ]
    },
    {
      "cell_type": "code",
      "execution_count": 13,
      "metadata": {
        "id": "mkMJXVmm_SJN"
      },
      "outputs": [],
      "source": [
        "# import dependencies\n",
        "import tensorflow_hub as hub\n",
        "from tensorflow.keras import layers"
      ]
    },
    {
      "cell_type": "code",
      "execution_count": 14,
      "metadata": {
        "colab": {
          "base_uri": "https://localhost:8080/"
        },
        "id": "NaZ5KhOo_u2i",
        "outputId": "2ccf9a04-cb48-4af1-c861-450ddd0b4016"
      },
      "outputs": [
        {
          "data": {
            "text/plain": [
              "(224, 224, 3)"
            ]
          },
          "execution_count": 14,
          "metadata": {},
          "output_type": "execute_result"
        }
      ],
      "source": [
        "IMAGE_SHAPE + (3,)"
      ]
    },
    {
      "cell_type": "code",
      "execution_count": 15,
      "metadata": {
        "id": "5_k7O6ruCk6L"
      },
      "outputs": [],
      "source": [
        "# Let's make a create_model() function to create a model from a URL\n",
        "\n",
        "def create_model(model_url, num_classes=10):\n",
        "  # Download the pretrained model and save it as a Keras layer\n",
        "  feature_extractor_layer = hub.KerasLayer(model_url,\n",
        "                                           trainable=False, # freeze the already learned patterns\n",
        "                                           name=\"feature_extraction_lyaer\",\n",
        "                                           input_shape=IMAGE_SHAPE+(3,)) \n",
        "\n",
        "  # Create our own model\n",
        "  model = tf.keras.Sequential([\n",
        "    feature_extractor_layer,\n",
        "    layers.Dense(num_classes, activation=\"softmax\", name=\"output_layer\")\n",
        "  ])\n",
        "    \n",
        "  return model  \n"
      ]
    },
    {
      "cell_type": "markdown",
      "metadata": {
        "id": "2v0bbcnYEeZt"
      },
      "source": [
        "### Creating and testing ResNet TensorFlow Hub Feature Extraction model"
      ]
    },
    {
      "cell_type": "code",
      "execution_count": 16,
      "metadata": {
        "id": "pocZPG2AEQB0"
      },
      "outputs": [],
      "source": [
        "# Create Resnet model\n",
        "resnet_model = create_model(resnet_url, \n",
        "                            num_classes=train_data_10_percent.num_classes)\n"
      ]
    },
    {
      "cell_type": "code",
      "execution_count": 18,
      "metadata": {
        "id": "qOd9fNaTF3l_"
      },
      "outputs": [],
      "source": [
        "# Compile our resnet model\n",
        "resnet_model.compile(loss=\"categorical_crossentropy\",\n",
        "                     optimizer=tf.keras.optimizers.Adam(),\n",
        "                     metrics=[\"accuracy\"])"
      ]
    },
    {
      "cell_type": "code",
      "execution_count": 23,
      "metadata": {
        "colab": {
          "base_uri": "https://localhost:8080/"
        },
        "id": "0MY5wVGOG6Ko",
        "outputId": "48a7947b-2e13-429c-edac-e84d9621ab8b"
      },
      "outputs": [
        {
          "name": "stdout",
          "output_type": "stream",
          "text": [
            "Saving TensorBoard log files to: tensorflow_hub/resnet50V2/20220619-133313\n",
            "Epoch 1/5\n",
            "24/24 [==============================] - 16s 679ms/step - loss: 0.2763 - accuracy: 0.9480 - val_loss: 0.6468 - val_accuracy: 0.7848\n",
            "Epoch 2/5\n",
            "24/24 [==============================] - 16s 665ms/step - loss: 0.2337 - accuracy: 0.9627 - val_loss: 0.6423 - val_accuracy: 0.7844\n",
            "Epoch 3/5\n",
            "24/24 [==============================] - 16s 668ms/step - loss: 0.1973 - accuracy: 0.9773 - val_loss: 0.6277 - val_accuracy: 0.7904\n",
            "Epoch 4/5\n",
            "24/24 [==============================] - 15s 664ms/step - loss: 0.1733 - accuracy: 0.9827 - val_loss: 0.6227 - val_accuracy: 0.7896\n",
            "Epoch 5/5\n",
            "24/24 [==============================] - 19s 801ms/step - loss: 0.1469 - accuracy: 0.9907 - val_loss: 0.6361 - val_accuracy: 0.7840\n"
          ]
        }
      ],
      "source": [
        "# fit the  model\n",
        "resnet_history = resnet_model.fit(train_data_10_percent, \n",
        "                 epochs=5, \n",
        "                 steps_per_epoch=len(train_data_10_percent),\n",
        "                 validation_data=test_data,\n",
        "                  validation_steps=len(test_data),\n",
        "                  callbacks=[create_tensorboard_callback(dir_name=\"tensorflow_hub\",\n",
        "                                                                         experiment_name=\"resnet50V2\"\n",
        "                                                                         )])"
      ]
    },
    {
      "cell_type": "code",
      "execution_count": 24,
      "metadata": {
        "id": "GJxVj926KBSw"
      },
      "outputs": [],
      "source": [
        "# Let's create a function to plot our loss curves...\n",
        "import matplotlib.pyplot as plt\n",
        "\n",
        "def plot_loss_curves(history):\n",
        "  loss = history.history[\"loss\"]\n",
        "  val_loss = history.history[\"val_loss\"]\n",
        "\n",
        "  accuracy = history.history[\"accuracy\"]\n",
        "  val_accuracy = history.history[\"val_accuracy\"]\n",
        "\n",
        "  epochs = range(len(history.history[\"loss\"]))\n",
        "\n",
        "  # Plot loss\n",
        "  plt.plot(epochs, loss, label=\"training_loss\")\n",
        "  plt.plot(epochs, val_loss, label=\"val_loss\")\n",
        "  plt.title(\"Loss\")\n",
        "  plt.xlabel(\"Epochs\")\n",
        "  plt.legend()\n",
        "\n",
        "  # Plot accuracy\n",
        "  plt.figure()\n",
        "  plt.plot(epochs, accuracy, label=\"training_accuracy\")\n",
        "  plt.plot(epochs, val_accuracy, label=\"val_accuracy\")\n",
        "  plt.title(\"Accuracy\")\n",
        "  plt.xlabel(\"Epochs\")\n",
        "  plt.legend()\n",
        "\n"
      ]
    },
    {
      "cell_type": "code",
      "execution_count": 25,
      "metadata": {
        "colab": {
          "base_uri": "https://localhost:8080/",
          "height": 573
        },
        "id": "upeGsCDGLX6g",
        "outputId": "887ad2a6-3920-4cc0-c980-dac9a4acaab5"
      },
      "outputs": [
        {
          "data": {
            "image/png": "[encoded data removed]",
            "text/plain": [
              "<Figure size 432x288 with 1 Axes>"
            ]
          },
          "metadata": {
            "needs_background": "light"
          },
          "output_type": "display_data"
        },
        {
          "data": {
            "image/png": "[encoded data removed]",
            "text/plain": [
              "<Figure size 432x288 with 1 Axes>"
            ]
          },
          "metadata": {
            "needs_background": "light"
          },
          "output_type": "display_data"
        }
      ],
      "source": [
        "plot_loss_curves(resnet_history)"
      ]
    },
    {
      "cell_type": "markdown",
      "metadata": {
        "id": "PclGcS8gLTVQ"
      },
      "source": [
        "### Creating and testing EfficientNetB0 TensorFlow Hub Feature Extraction model"
      ]
    },
    {
      "cell_type": "code",
      "execution_count": 28,
      "metadata": {
        "colab": {
          "base_uri": "https://localhost:8080/"
        },
        "id": "yLwXVu16LTyK",
        "outputId": "991ea3d5-5a22-4089-8c4b-90bf2b91efe4"
      },
      "outputs": [
        {
          "name": "stdout",
          "output_type": "stream",
          "text": [
            "Saving TensorBoard log files to: tensorflow_hub/efficientnetb0/20220619-134433\n",
            "Epoch 1/5\n",
            "24/24 [==============================] - 25s 705ms/step - loss: 1.8676 - accuracy: 0.4293 - val_loss: 1.2945 - val_accuracy: 0.7328\n",
            "Epoch 2/5\n",
            "24/24 [==============================] - 15s 635ms/step - loss: 1.0631 - accuracy: 0.7787 - val_loss: 0.8615 - val_accuracy: 0.8208\n",
            "Epoch 3/5\n",
            "24/24 [==============================] - 15s 635ms/step - loss: 0.7554 - accuracy: 0.8333 - val_loss: 0.6897 - val_accuracy: 0.8456\n",
            "Epoch 4/5\n",
            "24/24 [==============================] - 15s 635ms/step - loss: 0.6090 - accuracy: 0.8573 - val_loss: 0.6046 - val_accuracy: 0.8580\n",
            "Epoch 5/5\n",
            "24/24 [==============================] - 15s 640ms/step - loss: 0.5146 - accuracy: 0.8853 - val_loss: 0.5526 - val_accuracy: 0.8616\n"
          ]
        }
      ],
      "source": [
        "# Create EfficinetNetB0 feature extractor model - details on EfficientNet: https://ai.googleblog.com/2019/05/efficientnet-improving-accuracy-and.html#:~:text=EfficientNet%2DB0%20is%20the%20baseline,than%20the%20best%20existing%20CNN.\n",
        "efficientnet_model = create_model(model_url=efficientnet_url,\n",
        "                                  num_classes=train_data_10_percent.num_classes)\n",
        "\n",
        "# compile the model\n",
        "efficientnet_model.compile(loss=\"categorical_crossentropy\",\n",
        "                           optimizer=tf.keras.optimizers.Adam(),\n",
        "                           metrics=[\"accuracy\"])\n",
        "\n",
        "# fit the model\n",
        "efficientnet_history = efficientnet_model.fit(train_data_10_percent,\n",
        "                                              epochs=5,\n",
        "                                              steps_per_epoch=len(train_data_10_percent),\n",
        "                                              validation_data=test_data,\n",
        "                                              validation_steps=len(test_data),\n",
        "                                              callbacks=[create_tensorboard_callback(dir_name=\"tensorflow_hub\",\n",
        "                                                                                     experiment_name=\"efficientnetb0\")])"
      ]
    },
    {
      "cell_type": "code",
      "execution_count": 29,
      "metadata": {
        "colab": {
          "base_uri": "https://localhost:8080/",
          "height": 573
        },
        "id": "npuWpR9aM4W6",
        "outputId": "5931dd31-e038-4b14-bb7c-3d9b7f0fbbf7"
      },
      "outputs": [
        {
          "data": {
            "image/png": "[encoded data removed]",
            "text/plain": [
              "<Figure size 432x288 with 1 Axes>"
            ]
          },
          "metadata": {
            "needs_background": "light"
          },
          "output_type": "display_data"
        },
        {
          "data": {
            "image/png": "[encoded data removed]",
            "text/plain": [
              "<Figure size 432x288 with 1 Axes>"
            ]
          },
          "metadata": {
            "needs_background": "light"
          },
          "output_type": "display_data"
        }
      ],
      "source": [
        "plot_loss_curves(efficientnet_history)"
      ]
    },
    {
      "cell_type": "code",
      "execution_count": 30,
      "metadata": {
        "colab": {
          "base_uri": "https://localhost:8080/"
        },
        "id": "sqzbTnarN6iu",
        "outputId": "8bb8a3db-8389-4ee6-fa95-c071dbf87666"
      },
      "outputs": [
        {
          "name": "stdout",
          "output_type": "stream",
          "text": [
            "Model: \"sequential_1\"\n",
            "_________________________________________________________________\n",
            " Layer (type)                Output Shape              Param #   \n",
            "=================================================================\n",
            " feature_extraction_lyaer (K  (None, 1280)             4049564   \n",
            " erasLayer)                                                      \n",
            "                                                                 \n",
            " output_layer (Dense)        (None, 10)                12810     \n",
            "                                                                 \n",
            "=================================================================\n",
            "Total params: 4,062,374\n",
            "Trainable params: 12,810\n",
            "Non-trainable params: 4,049,564\n",
            "_________________________________________________________________\n"
          ]
        }
      ],
      "source": [
        "efficientnet_model.summary()"
      ]
    },
    {
      "cell_type": "code",
      "execution_count": 32,
      "metadata": {
        "colab": {
          "base_uri": "https://localhost:8080/"
        },
        "id": "OpoObauPQS-V",
        "outputId": "8c4208b8-7db9-4962-fb11-95f2adce1911"
      },
      "outputs": [
        {
          "name": "stdout",
          "output_type": "stream",
          "text": [
            "Model: \"sequential\"\n",
            "_________________________________________________________________\n",
            " Layer (type)                Output Shape              Param #   \n",
            "=================================================================\n",
            " feature_extraction_lyaer (K  (None, 2048)             23564800  \n",
            " erasLayer)                                                      \n",
            "                                                                 \n",
            " output_layer (Dense)        (None, 10)                20490     \n",
            "                                                                 \n",
            "=================================================================\n",
            "Total params: 23,585,290\n",
            "Trainable params: 20,490\n",
            "Non-trainable params: 23,564,800\n",
            "_________________________________________________________________\n"
          ]
        }
      ],
      "source": [
        "resnet_model.summary()"
      ]
    },
    {
      "cell_type": "code",
      "execution_count": 33,
      "metadata": {
        "colab": {
          "base_uri": "https://localhost:8080/"
        },
        "id": "hV_mxdbtQl87",
        "outputId": "caa8ab02-7fdd-4ec6-a176-6b0ee34b936b"
      },
      "outputs": [
        {
          "data": {
            "text/plain": [
              "309"
            ]
          },
          "execution_count": 33,
          "metadata": {},
          "output_type": "execute_result"
        }
      ],
      "source": [
        "# How many layers does our efficientnetb0 feature extractor have?\n",
        "len(efficientnet_model.layers[0].weights)"
      ]
    },
    {
      "cell_type": "markdown",
      "metadata": {
        "id": "-iXZ95H6QJc4"
      },
      "source": [
        "## Different types of transfer learning\n",
        "\n",
        "* **\"As is\" transfer learning** - using an existing model with no changes what so ever (e.g using ImageNet model on 1000 ImageNet classes, none of your own)\n",
        "* **\"Feature extraction\"** transfer learning - use the prelearned patterns of an existing model (e.g. EfficientNetB0 trained on ImageNet) and adjust the output layer for your own problem (e.g. 1000 classes -> 10 classes of food)\n",
        "* **\"Fine-tuning\" transfer learning** - use the prelearned patterns of an existing model and \"fine-tune\" many or all of the underlying layers (including new output layers)\n"
      ]
    },
    {
      "cell_type": "markdown",
      "metadata": {
        "id": "7VDU3bidQrRh"
      },
      "source": [
        "## Comparing our models results using TensorBoard (in google-colab)"
      ]
    },
    {
      "cell_type": "code",
      "execution_count": null,
      "metadata": {
        "id": "APv_Dot6QKHq"
      },
      "outputs": [],
      "source": [
        "# Upload TensorBoard dev records\n",
        "# !tensorboard dev upload --logdir ./tensorflow_hub/ \\\n",
        "#   --name \"EfficientNetB0 vs. ResNet50V2\" \\\n",
        "#   --description \"Comparing two different TF Hub feature extraction model architectures using 10% of the training data\" \\\n",
        "#   --one_shot"
      ]
    },
    {
      "cell_type": "markdown",
      "metadata": {
        "id": "R8MFNwjhQwyj"
      },
      "source": [
        "Our TensorBoard experiments are uploaded publically here: https://tensorboard.dev/experiment/dQBrpdwIRgS2qI0Andv8Yg/"
      ]
    },
    {
      "cell_type": "code",
      "execution_count": null,
      "metadata": {
        "id": "8IPU-ad5QxJ6"
      },
      "outputs": [],
      "source": [
        "# Check out what TensorBoard experiments you have\n",
        "# !tensorboard dev list"
      ]
    },
    {
      "cell_type": "code",
      "execution_count": null,
      "metadata": {
        "id": "SEZcOT07VvZp"
      },
      "outputs": [],
      "source": [
        "# Delete an experiment\n",
        "# !tensorboard dev delete --experiment_id dQBrpdwIRgS2qI0Andv8Yg"
      ]
    },
    {
      "cell_type": "code",
      "execution_count": null,
      "metadata": {
        "id": "4uhrFvmKVwut"
      },
      "outputs": [],
      "source": [
        "# Confirm the deletion by re-checking what experiments you have left\n",
        "# !tensorboard dev list"
      ]
    }
  ],
  "metadata": {
    "accelerator": "GPU",
    "colab": {
      "collapsed_sections": [],
      "name": "04_transfer_learning_part_1.ipynb",
      "provenance": []
    },
    "gpuClass": "standard",
    "kernelspec": {
      "display_name": "Python 3",
      "name": "python3"
    },
    "language_info": {
      "name": "python"
    }
  },
  "nbformat": 4,
  "nbformat_minor": 0
}
